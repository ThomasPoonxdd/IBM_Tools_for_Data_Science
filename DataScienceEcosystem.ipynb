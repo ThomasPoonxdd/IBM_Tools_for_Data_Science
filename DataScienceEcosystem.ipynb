{
 "cells": [
  {
   "cell_type": "markdown",
   "id": "dd1c4b2a-219d-4110-b017-1bfa27708c38",
   "metadata": {},
   "source": [
    "# Data Science Tools and Ecosystem"
   ]
  },
  {
   "cell_type": "markdown",
   "id": "ad73984a-d86b-4b11-bbff-7ce86bb09c7d",
   "metadata": {},
   "source": [
    "In this notebook, Data Science Tools and Ecosystem are summarized."
   ]
  },
  {
   "cell_type": "markdown",
   "id": "7c1731be-e164-4db7-84cc-c233ddee3da6",
   "metadata": {},
   "source": [
    "**Objectives:**\n",
    " - List popular languages for Data Science\n",
    " - List commonly used libraries for Data Science\n",
    " - List Data Science Tools\n",
    " - List few examples of evaluating arithmetic expressions in Python"
   ]
  },
  {
   "cell_type": "markdown",
   "id": "d2d66cf0-ea91-4013-b6ae-5706985e7284",
   "metadata": {},
   "source": [
    "Some of the popular languages that Data Scientists use are:\n",
    " 1. python\n",
    " 2. R\n",
    " 3. SQL\n",
    " 4. Julia\n",
    " 5. C/C++"
   ]
  },
  {
   "cell_type": "markdown",
   "id": "4725899a-2626-4adf-9147-7f2ffd7a1e63",
   "metadata": {},
   "source": [
    "Some of the commonly used libraries used by Data Scientists include:\n",
    " 1. Numpy\n",
    " 2. Pandas\n",
    " 3. Scikit-Learn\n",
    " 4. Pytorch\n",
    " 5. TensorFlow"
   ]
  },
  {
   "cell_type": "markdown",
   "id": "a022423b-79bf-45dd-a3d7-ed20de091079",
   "metadata": {},
   "source": [
    "|Data Science Tools|\n",
    "|---|\n",
    "|jupyter|\n",
    "|jupyterlab|\n",
    "|vs code|"
   ]
  },
  {
   "cell_type": "markdown",
   "id": "3f8e16bc-3732-43a5-9720-e393deb534be",
   "metadata": {},
   "source": [
    "### Below are a few examples of evaluating arithmetic expressions in Python"
   ]
  },
  {
   "cell_type": "code",
   "execution_count": 2,
   "id": "469b8d39-05e3-4d85-b821-f6a81e48d207",
   "metadata": {
    "tags": []
   },
   "outputs": [
    {
     "data": {
      "text/plain": [
       "17"
      ]
     },
     "execution_count": 2,
     "metadata": {},
     "output_type": "execute_result"
    }
   ],
   "source": [
    "# This a simple arithmetic expression to mutiply then add integers\n",
    "(3*4)+5"
   ]
  },
  {
   "cell_type": "code",
   "execution_count": 3,
   "id": "43ad73eb-6d67-4ab0-a92b-b8d0b56c5deb",
   "metadata": {
    "tags": []
   },
   "outputs": [
    {
     "data": {
      "text/plain": [
       "3.3333333333333335"
      ]
     },
     "execution_count": 3,
     "metadata": {},
     "output_type": "execute_result"
    }
   ],
   "source": [
    "# This will convert 200 minutes to hours by diving by 60\n",
    "200/60"
   ]
  },
  {
   "cell_type": "markdown",
   "id": "3ece964b-2e57-4a0e-a8b7-904eb1bac373",
   "metadata": {},
   "source": []
  }
 ],
 "metadata": {
  "kernelspec": {
   "display_name": "Python",
   "language": "python",
   "name": "conda-env-python-py"
  },
  "language_info": {
   "codemirror_mode": {
    "name": "ipython",
    "version": 3
   },
   "file_extension": ".py",
   "mimetype": "text/x-python",
   "name": "python",
   "nbconvert_exporter": "python",
   "pygments_lexer": "ipython3",
   "version": "3.7.12"
  }
 },
 "nbformat": 4,
 "nbformat_minor": 5
}
